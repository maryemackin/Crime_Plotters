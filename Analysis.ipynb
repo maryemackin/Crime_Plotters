{
 "cells": [
  {
   "cell_type": "code",
   "execution_count": 2,
   "id": "dc8e8f3d-494a-4d74-9393-1b7cf86a4e68",
   "metadata": {},
   "outputs": [],
   "source": [
    "# Dependencies and setup\n",
    "import pandas as pd\n",
    "from pathlib import Path\n",
    "from pprint import pprint"
   ]
  },
  {
   "cell_type": "code",
   "execution_count": 3,
   "id": "c6a05c8f-5bb3-4966-80cd-4276459a1b6e",
   "metadata": {},
   "outputs": [],
   "source": [
    "# Cleaned files to load\n",
    "agency_level_crime_data = Path(\"Resources/agency_level_crime_data.csv\")\n",
    "agency_level_crime_data = Path(\"Resources/county_level_crime_data.csv\")"
   ]
  },
  {
   "cell_type": "code",
   "execution_count": 4,
   "id": "ffee6a39-0f9b-47a0-a129-cf38077af52e",
   "metadata": {},
   "outputs": [],
   "source": [
    "# Read agency level and county level crime data and store into Pandas DataFrames\n",
    "agency_data = pd.read_csv(agency_level_crime_data)\n",
    "county_data = pd.read_csv(agency_level_crime_data)"
   ]
  },
  {
   "cell_type": "code",
   "execution_count": 19,
   "id": "dde62a67-efd8-47b5-8870-8b3a26cec81c",
   "metadata": {},
   "outputs": [
    {
     "name": "stdout",
     "output_type": "stream",
     "text": [
      "county_name\n",
      "ALAMEDA             -89\n",
      "BUTTE               -14\n",
      "CALAVERAS           -77\n",
      "COLUSA              -13\n",
      "CONTRA COSTA       -275\n",
      "EL DORADO          -236\n",
      "FRESNO             -834\n",
      "GLENN               -31\n",
      "HUMBOLDT            -51\n",
      "KERN               -159\n",
      "KINGS              -176\n",
      "LAKE               -117\n",
      "LASSEN              -53\n",
      "LOS ANGELES        -606\n",
      "MADERA              -85\n",
      "MARIN               -71\n",
      "MARIPOSA            -20\n",
      "MENDOCINO           -43\n",
      "MERCED              -40\n",
      "MODOC               -19\n",
      "MONTEREY           -178\n",
      "NEVADA               52\n",
      "ORANGE             -372\n",
      "PLACER              -46\n",
      "RIVERSIDE          -234\n",
      "SACRAMENTO          -79\n",
      "SAN BENITO         -131\n",
      "SAN BERNARDINO     -633\n",
      "SAN DIEGO         -3311\n",
      "SAN FRANCISCO        -4\n",
      "SAN JOAQUIN        -515\n",
      "SAN LUIS OBISPO     -48\n",
      "SAN MATEO           -57\n",
      "SANTA BARBARA      -129\n",
      "SANTA CLARA        -274\n",
      "SANTA CRUZ         -113\n",
      "SOLANO                0\n",
      "SONOMA              -12\n",
      "SUTTER             -146\n",
      "TEHAMA              -96\n",
      "TULARE             -435\n",
      "VENTURA              -6\n",
      "YOLO                -70\n",
      "Name: Aggravated Assault, dtype: int64\n"
     ]
    }
   ],
   "source": [
    "# Question to be answered: Is there an increase in crime in all counties or only certain counties?\n",
    "# Calculate answer by comparing the aggravated assaults in 2022 vs 2017\n",
    "\n",
    "# Group the data by county_name and calculate the total aggravated assaults in 2017 for each county\n",
    "per_county_counts_aggravated_assaults_in_2022 = county_data[county_data['data_year'] == 2017].groupby(\"county_name\")['Aggravated Assault'].sum()\n",
    "\n",
    "# Group the data by county_name and calculate the total aggravated assaults in 2022 for each county\n",
    "per_county_counts_aggravated_assaults_in_2022 = county_data[county_data['data_year'] == 2022].groupby(\"county_name\")['Aggravated Assault'].sum()\n",
    "\n",
    "# Calculate the increase or decrease of aggravated assaults by county\n",
    "per_county_aggravated_assaults_increase_or_decrease = per_county_counts_aggravated_assaults_in_2022 - per_county_counts_aggravated_assaults_in_2017\n",
    "\n",
    "#print(per_county_counts_aggravated_assaults_in_2017)\n",
    "#print(per_county_counts_aggravated_assaults_in_2022)\n",
    "\n",
    "# Print the increase or decrease for each county\n",
    "print(per_county_aggravated_assaults_increase_or_decrease)"
   ]
  },
  {
   "cell_type": "code",
   "execution_count": null,
   "id": "0597ec42-1198-4861-b5cc-278438f4768a",
   "metadata": {},
   "outputs": [],
   "source": []
  },
  {
   "cell_type": "code",
   "execution_count": null,
   "id": "33e420b8-dc89-4edf-8e0d-6b96e082fadb",
   "metadata": {},
   "outputs": [],
   "source": []
  }
 ],
 "metadata": {
  "kernelspec": {
   "display_name": "Python 3 (ipykernel)",
   "language": "python",
   "name": "python3"
  },
  "language_info": {
   "codemirror_mode": {
    "name": "ipython",
    "version": 3
   },
   "file_extension": ".py",
   "mimetype": "text/x-python",
   "name": "python",
   "nbconvert_exporter": "python",
   "pygments_lexer": "ipython3",
   "version": "3.10.13"
  }
 },
 "nbformat": 4,
 "nbformat_minor": 5
}
