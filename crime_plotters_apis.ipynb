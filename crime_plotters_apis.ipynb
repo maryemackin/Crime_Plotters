{
 "cells": [
  {
   "cell_type": "markdown",
   "id": "a7a234f3-2082-4bae-84e5-b74f0a919559",
   "metadata": {},
   "source": [
    "Crime Plotters API Requests\n",
    "    "
   ]
  },
  {
   "cell_type": "code",
   "execution_count": null,
   "id": "4ae334cd-7a27-47b0-a44a-ba25d7f16ceb",
   "metadata": {},
   "outputs": [],
   "source": [
    "# import dependencies\n",
    "import requests\n",
    "import json\n",
    "from pprint import pprint\n"
   ]
  },
  {
   "cell_type": "code",
   "execution_count": null,
   "id": "dad8ceb7-6eff-4cfe-8b95-2d80d92017a6",
   "metadata": {},
   "outputs": [],
   "source": [
    "# set URL for \"get\" requests\n",
    "url = <full_path>\n"
   ]
  },
  {
   "cell_type": "code",
   "execution_count": null,
   "id": "02818a86-bfc8-447f-b623-f12a260a1a94",
   "metadata": {},
   "outputs": [],
   "source": [
    "# perform a \"get\" request\n",
    "request.get(url)\n"
   ]
  },
  {
   "cell_type": "code",
   "execution_count": null,
   "id": "d74b9d7a-5403-4cd2-a7fa-e97b54d52853",
   "metadata": {},
   "outputs": [],
   "source": [
    "# convert response data into a json dictionary\n",
    "print(requests.get(url).json()\n"
   ]
  },
  {
   "cell_type": "code",
   "execution_count": null,
   "id": "db2bb149-5ea5-42c4-9bd5-490e2039fd47",
   "metadata": {},
   "outputs": [],
   "source": [
    "# use pretty print to display raw data\n",
    "response = requests.get(url).json()\n",
    "print(json.dumps(response, indent-4, sort_keys=True))\n"
   ]
  },
  {
   "cell_type": "code",
   "execution_count": null,
   "id": "486cb8b6-ec11-427e-abf3-4816a3e363ae",
   "metadata": {},
   "outputs": [],
   "source": []
  },
  {
   "cell_type": "code",
   "execution_count": null,
   "id": "3c7a67de-ff3a-43cb-921a-52703fa57ff9",
   "metadata": {},
   "outputs": [],
   "source": []
  },
  {
   "cell_type": "code",
   "execution_count": null,
   "id": "b7b4c74c-6aa1-40cb-93a3-14833bbab1aa",
   "metadata": {},
   "outputs": [],
   "source": []
  }
 ],
 "metadata": {
  "kernelspec": {
   "display_name": "Python 3 (ipykernel)",
   "language": "python",
   "name": "python3"
  },
  "language_info": {
   "codemirror_mode": {
    "name": "ipython",
    "version": 3
   },
   "file_extension": ".py",
   "mimetype": "text/x-python",
   "name": "python",
   "nbconvert_exporter": "python",
   "pygments_lexer": "ipython3",
   "version": "3.11.7"
  }
 },
 "nbformat": 4,
 "nbformat_minor": 5
}
