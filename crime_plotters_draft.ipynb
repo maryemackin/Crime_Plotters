{
 "cells": [
  {
   "cell_type": "code",
   "execution_count": null,
   "id": "f84a2994-bd3f-46e7-853a-b88b79d5f123",
   "metadata": {},
   "outputs": [],
   "source": [
    "#import dependencies\n",
    "import os\n",
    "import csv\n",
    "import requests\n",
    "import json\n",
    "import pandas as pd\n",
    "from pprint import pprint\n",
    "from config import api_key"
   ]
  },
  {
   "cell_type": "code",
   "execution_count": null,
   "id": "89df4519-cd6c-48b0-a83b-79bc07501401",
   "metadata": {},
   "outputs": [],
   "source": [
    "#ori_dict = {'title':'CS ORI Number and Agency Name', 'keys':\"['ORI', 'AGENCY_NAME']\"}\n"
   ]
  },
  {
   "cell_type": "code",
   "execution_count": null,
   "id": "a2b0fda2-0644-4ccd-af29-fabe731ccd78",
   "metadata": {},
   "outputs": [],
   "source": [
    "#create list of ca ori numbers\n",
    "csvpath = os.path.join('.', 'resources', 'ca_ori_numbers.csv')\n",
    "\n",
    "with open(csvpath, 'r') as file_handler:\n",
    "    data1 = file_handler.read()\n",
    "\n",
    "ca_ori_numbers = (data1)"
   ]
  },
  {
   "cell_type": "code",
   "execution_count": null,
   "id": "c34cd8e0-99d0-4025-8ad1-2a7db228f964",
   "metadata": {},
   "outputs": [],
   "source": [
    "#create list of ca ori numbers and agencies\n",
    "csvpath = os.path.join('.', 'resources', 'orinum_agencyname.csv')\n",
    "\n",
    "with open(csvpath, 'r') as file_handler:\n",
    "    data2 = file_handler.read()\n",
    "\n",
    "orinum_agencyname = (data2)"
   ]
  },
  {
   "cell_type": "code",
   "execution_count": null,
   "id": "6b1c1093-49ed-438e-9dd0-3fd489d18b70",
   "metadata": {},
   "outputs": [],
   "source": [
    "#create list with county & offense\n",
    "csvpath = os.path.join('.', 'resources', 'ori_agency_county_offense.csv')\n",
    "\n",
    "with open(csvpath, 'r') as file_handler:\n",
    "    data3 = file_handler.read()\n",
    "\n",
    "ori_agency_county_offense = (data3)"
   ]
  },
  {
   "cell_type": "code",
   "execution_count": null,
   "id": "c6226337-12bd-44c5-99d5-9591a64552d2",
   "metadata": {},
   "outputs": [],
   "source": [
    "#create list with county name & code\n",
    "csvpath = os.path.join('.', 'resources', 'agencyname_countyname_countycod.csv')\n",
    "\n",
    "with open(csvpath, 'r') as file_handler:\n",
    "    data4 = file_handler.read()\n",
    "\n",
    "agencyname_countyname_countycode = (data4)"
   ]
  },
  {
   "cell_type": "code",
   "execution_count": null,
   "id": "b8b04a31-50ec-4af7-854a-9fbf93b577b9",
   "metadata": {},
   "outputs": [],
   "source": [
    "#api request & response\n",
    "\n",
    "#must be able to specify {ori} as {ca_ori_numbers}\n",
    "\n",
    "fbi_url = f\"https://api.usa.gov/crime/fbi/cde/arrest/agency/{ori}/all?from=2017&to=2022&API_KEY={api_key}\"\n",
    "fbi_response = requests.get(fbi_url)"
   ]
  },
  {
   "cell_type": "code",
   "execution_count": null,
   "id": "029b6583-ef84-4dcf-814c-09bdfc1451e4",
   "metadata": {},
   "outputs": [],
   "source": [
    "#set variables if needed\n",
    "state = \"CA\"\n",
    "units = \"imperial\""
   ]
  },
  {
   "cell_type": "code",
   "execution_count": null,
   "id": "1c76563b-03c7-471c-84a7-20a0f22d62c2",
   "metadata": {},
   "outputs": [],
   "source": [
    "#pprint sample of data\n",
    "pprint(f\"Sample#1: {fbi_response[0]}.\")\n",
    "pprint(f\"Sample#2: {fbi_response[-1]}.\")\n",
    "pprint(f\"total responses: {len(fbi_response)}.\")"
   ]
  },
  {
   "cell_type": "code",
   "execution_count": null,
   "id": "5108b3b8-79a0-436f-a4c4-4c9224810d0c",
   "metadata": {},
   "outputs": [],
   "source": [
    "#build partial query URL\n",
    "query_url = f\"{fbi_url}appid={api_key}&q{state}&units{units}\""
   ]
  },
  {
   "cell_type": "code",
   "execution_count": null,
   "id": "7fc95354-32c7-45f5-8061-59a89d76cf4b",
   "metadata": {},
   "outputs": [],
   "source": [
    "#create lists to hold response info (may create one if data supports not having to merge)\n",
    "ca_crime_2017_2022 = []\n",
    "crime_2017 = []\n",
    "crime_2018 = []\n",
    "crime_2019 = []\n",
    "crime_2020 = []\n",
    "crime_2021 = []\n",
    "crime_2022 = []"
   ]
  },
  {
   "cell_type": "code",
   "execution_count": null,
   "id": "b8d6d6df-2ddb-4c74-913a-4e5449b1ba32",
   "metadata": {},
   "outputs": [],
   "source": [
    "#loop through and perform an api request for data\n",
    "for state in states:\n",
    "    response = requests.get(query_url + state).json()\n",
    "    ca_crime_2017_2022.append(fbi_response['colname']['colname']\n",
    "    #or\n",
    "    crime_2017.append(fbi_response['colname']['colname']\n",
    "    #etc for each year"
   ]
  },
  {
   "cell_type": "code",
   "execution_count": null,
   "id": "79bd6911-215d-431f-9161-7ca1027132a6",
   "metadata": {},
   "outputs": [],
   "source": [
    "#create a data frame from colname, colname, etc\n",
    "crime_dict = {\"state\": state, \"zip\": zip, (etc for all columns wanted)}\n",
    "crime_data = pd.DataFrame(crime_dict)\n",
    "#crime_data.head()"
   ]
  },
  {
   "cell_type": "code",
   "execution_count": null,
   "id": "93ca1133-fe83-4b1a-86e5-86823636df53",
   "metadata": {},
   "outputs": [],
   "source": []
  },
  {
   "cell_type": "code",
   "execution_count": null,
   "id": "1ca3f3f5-6163-4858-94f2-3967270e20b7",
   "metadata": {},
   "outputs": [],
   "source": [
    "#loop through dfs to produce reports\n",
    "for index, row in dataframe_df.iterrows()\n",
    "    query_url = f\"{url}{row['colname']}/daily.json\" \n",
    "    response = requests.get(query_url).json()\n",
    "    ca_crime_2017_df.loc[index, \"CA Crime 2017\"] = response[0][\"colname\"]\n",
    "    ca_crime_2018_df.loc[index, \"CA Crime 2018\"] = response[0][\"colname\"]\n",
    "    ca_crime_2019_df.loc[index, \"CA Crime 2019\"] = response[0][\"colname\"]\n",
    "    ca_crime_2020_df.loc[index, \"CA Crime 2020\"] = response[0][\"colname\"]\n",
    "    ca_crime_2021_df.loc[index, \"CA Crime 2021\"] = response[0][\"colname\"]\n",
    "    ca_crime_2022_df.loc[index, \"CA Crime 2022\"] = response[0][\"colname\"]"
   ]
  },
  {
   "cell_type": "code",
   "execution_count": null,
   "id": "267f548d-c3dd-4b60-b1ea-6854e2edad83",
   "metadata": {},
   "outputs": [],
   "source": [
    "#pprint json formatted response\n",
    "print(json.dumps(response_json, indent=4, sort_keys=True))"
   ]
  }
 ],
 "metadata": {
  "kernelspec": {
   "display_name": "Python 3 (ipykernel)",
   "language": "python",
   "name": "python3"
  },
  "language_info": {
   "codemirror_mode": {
    "name": "ipython",
    "version": 3
   },
   "file_extension": ".py",
   "mimetype": "text/x-python",
   "name": "python",
   "nbconvert_exporter": "python",
   "pygments_lexer": "ipython3",
   "version": "3.11.7"
  }
 },
 "nbformat": 4,
 "nbformat_minor": 5
}
