{
 "cells": [
  {
   "cell_type": "code",
   "execution_count": 1,
   "id": "f84a2994-bd3f-46e7-853a-b88b79d5f123",
   "metadata": {},
   "outputs": [],
   "source": [
    "#import dependencies\n",
    "import requests\n",
    "import json\n",
    "from pprint import pprint\n",
    "from config import api_key"
   ]
  },
  {
   "cell_type": "code",
   "execution_count": null,
   "id": "38481428-7c69-4f8f-8564-b766cb1e6bd3",
   "metadata": {},
   "outputs": [],
   "source": [
    "#save config information\n",
    "url = \"https://cde.ucr.cjis.gov/LATEST/webapp/#/pages/docApi\""
   ]
  },
  {
   "cell_type": "code",
   "execution_count": null,
   "id": "5108b3b8-79a0-436f-a4c4-4c9224810d0c",
   "metadata": {},
   "outputs": [],
   "source": [
    "#build partial query URL\n",
    "query_url = f\"{url}appid={api_key}\"\n",
    "ca_zips = list(range(90001, 96163))"
   ]
  },
  {
   "cell_type": "code",
   "execution_count": 2,
   "id": "7fc95354-32c7-45f5-8061-59a89d76cf4b",
   "metadata": {},
   "outputs": [],
   "source": [
    "#create lists to hold response info (may create one if data supports not having to merge)\n",
    "ca_crime_2017_2022 = []\n",
    "crime_2017 = []\n",
    "crime_2018 = []\n",
    "crime_2019 = []\n",
    "crime_2020 = []\n",
    "crime_2021 = []\n",
    "crime_2022 = []"
   ]
  },
  {
   "cell_type": "code",
   "execution_count": null,
   "id": "b8d6d6df-2ddb-4c74-913a-4e5449b1ba32",
   "metadata": {},
   "outputs": [],
   "source": [
    "#loop through and perform an api request for data\n",
    "for state in states:\n",
    "    response = requests.get(query_url + state).json()\n",
    "    ca_crime_2017_2022.append(response['colname']['colname']\n",
    "    #or\n",
    "    crime_2017.append(response['colname']['colname']"
   ]
  },
  {
   "cell_type": "code",
   "execution_count": null,
   "id": "79bd6911-215d-431f-9161-7ca1027132a6",
   "metadata": {},
   "outputs": [],
   "source": [
    "#create a data frame from colname, colname, etc\n",
    "crime_dict = {\"state\": state, \"zip\": zip, (etc for all columns wanted)}"
   ]
  },
  {
   "cell_type": "code",
   "execution_count": null,
   "id": "c147da0a-2d3b-4404-b41c-4722a631522d",
   "metadata": {},
   "outputs": [],
   "source": []
  },
  {
   "cell_type": "code",
   "execution_count": null,
   "id": "f44b4537-c280-4c3b-8780-5a10318dbb72",
   "metadata": {},
   "outputs": [],
   "source": []
  },
  {
   "cell_type": "code",
   "execution_count": null,
   "id": "2949fd0b-d4b7-4c8d-89ce-0cb043c6ed86",
   "metadata": {},
   "outputs": [],
   "source": []
  },
  {
   "cell_type": "code",
   "execution_count": null,
   "id": "9ba31d72-5a3a-44c7-a4c9-580868ce5f4e",
   "metadata": {},
   "outputs": [],
   "source": []
  },
  {
   "cell_type": "code",
   "execution_count": null,
   "id": "1a41739b-4f0c-4653-85da-57bba55726c6",
   "metadata": {},
   "outputs": [],
   "source": []
  },
  {
   "cell_type": "code",
   "execution_count": null,
   "id": "67e986ad-ff6f-4e0f-8566-30af93f5e175",
   "metadata": {},
   "outputs": [],
   "source": []
  },
  {
   "cell_type": "code",
   "execution_count": null,
   "id": "93ca1133-fe83-4b1a-86e5-86823636df53",
   "metadata": {},
   "outputs": [],
   "source": []
  },
  {
   "cell_type": "code",
   "execution_count": 5,
   "id": "33a9e9ef-1cbb-4389-a270-1a1a37c747cb",
   "metadata": {},
   "outputs": [
    {
     "name": "stdout",
     "output_type": "stream",
     "text": [
      "<Response [200]>\n"
     ]
    }
   ],
   "source": [
    "print(response)"
   ]
  },
  {
   "cell_type": "code",
   "execution_count": null,
   "id": "97a0aafd-10fe-4923-a6d5-7d275b18fbf2",
   "metadata": {},
   "outputs": [],
   "source": [
    "#convert response to json format\n",
    "response_json = response.json()"
   ]
  },
  {
   "cell_type": "code",
   "execution_count": null,
   "id": "098cf999-4778-49d1-90b8-ed3d653b936d",
   "metadata": {},
   "outputs": [],
   "source": [
    "#pprint json formatted response\n",
    "print(json.dumps(response_json, indent=4, sort_keys=True))"
   ]
  },
  {
   "cell_type": "code",
   "execution_count": null,
   "id": "c2e26d55-342c-411f-bc68-b988468e07f1",
   "metadata": {},
   "outputs": [],
   "source": []
  },
  {
   "cell_type": "code",
   "execution_count": null,
   "id": "09c7a8ea-dc7b-4035-9058-cda21077fb4d",
   "metadata": {},
   "outputs": [],
   "source": []
  },
  {
   "cell_type": "code",
   "execution_count": null,
   "id": "0cf4c7fe-5ee1-43e1-b466-342096754fe6",
   "metadata": {},
   "outputs": [],
   "source": []
  },
  {
   "cell_type": "code",
   "execution_count": null,
   "id": "1ca3f3f5-6163-4858-94f2-3967270e20b7",
   "metadata": {},
   "outputs": [],
   "source": [
    "for index, row in dataframe_df.iterrows():\n",
    "    query_url = f\"{url}{row['colname']}/daily.json\" \n",
    "    response = requests.get(query_url).json()\n",
    "    ca_crime_2017_df.loc[index, \"CA Crime 2017\"] = response[0][\"colname\"]\n",
    "    ca_crime_2018_df.loc[index, \"CA Crime 2018\"] = response[0][\"colname\"]\n",
    "    ca_crime_2019_df.loc[index, \"CA Crime 2019\"] = response[0][\"colname\"]\n",
    "    ca_crime_2020_df.loc[index, \"CA Crime 2020\"] = response[0][\"colname\"]\n",
    "    ca_crime_2021_df.loc[index, \"CA Crime 2021\"] = response[0][\"colname\"]\n",
    "    ca_crime_2022_df.loc[index, \"CA Crime 2022\"] = response[0][\"colname\"]"
   ]
  }
 ],
 "metadata": {
  "kernelspec": {
   "display_name": "Python 3 (ipykernel)",
   "language": "python",
   "name": "python3"
  },
  "language_info": {
   "codemirror_mode": {
    "name": "ipython",
    "version": 3
   },
   "file_extension": ".py",
   "mimetype": "text/x-python",
   "name": "python",
   "nbconvert_exporter": "python",
   "pygments_lexer": "ipython3",
   "version": "3.11.7"
  }
 },
 "nbformat": 4,
 "nbformat_minor": 5
}
