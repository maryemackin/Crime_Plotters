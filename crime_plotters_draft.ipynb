{
 "cells": [
  {
   "cell_type": "code",
   "execution_count": 12,
   "id": "f84a2994-bd3f-46e7-853a-b88b79d5f123",
   "metadata": {},
   "outputs": [],
   "source": [
    "#import dependencies\n",
    "import requests\n",
    "import json\n",
    "import pandas as pd\n",
    "from pprint import pprint\n",
    "from config import api_key"
   ]
  },
  {
   "cell_type": "code",
   "execution_count": 18,
   "id": "b8b04a31-50ec-4af7-854a-9fbf93b577b9",
   "metadata": {},
   "outputs": [
    {
     "name": "stdout",
     "output_type": "stream",
     "text": [
      "(\"The first response is {'title': 'All Arrest by Offense', 'keys': \"\n",
      " \"['Aggravated Assault', 'All Other Offenses (Except Traffic)', 'Arson', \"\n",
      " \"'Burglary', 'Curfew and Loitering Law Violations', 'Disorderly Conduct', \"\n",
      " \"'Driving Under the Influence', 'Drug Abuse Violations - Grand Total', \"\n",
      " \"'Drunkenness', 'Embezzlement', 'Forgery and Counterfeiting', 'Fraud', \"\n",
      " \"'Gambling - Total', 'Human Trafficking - Commercial Sex Acts', 'Human \"\n",
      " \"Trafficking - Involuntary Servitude', 'Larceny - Theft', 'Liquor Laws', \"\n",
      " \"'Manslaughter by Negligence', 'Motor Vehicle Theft', 'Murder and \"\n",
      " \"Nonnegligent Manslaughter', 'Offenses Against the Family and Children', \"\n",
      " \"'Prostitution and Commercialized Vice', 'Rape', 'Robbery', 'Sex Offenses \"\n",
      " \"(Except Rape, and Prostitution and Commercialized Vice)', 'Simple Assault', \"\n",
      " \"'Stolen Property: Buying, Receiving, Possessing', 'Suspicion', 'Vagrancy', \"\n",
      " \"'Vandalism', 'Weapons: Carrying, Possessing, Etc.'], 'data': [{'data_year': \"\n",
      " \"2017, 'Aggravated Assault': 380, 'All Other Offenses (Except Traffic)': \"\n",
      " \"1428, 'Arson': 6, 'Burglary': 50, 'Curfew and Loitering Law Violations': 0, \"\n",
      " \"'Disorderly Conduct': 12, 'Driving Under the Influence': 331, 'Drug Abuse \"\n",
      " \"Violations - Grand Total': 1816, 'Drunkenness': 124, 'Embezzlement': 1, \"\n",
      " \"'Forgery and Counterfeiting': 18, 'Fraud': 5, 'Gambling - Total': 0, 'Human \"\n",
      " \"Trafficking - Commercial Sex Acts': 0, 'Human Trafficking - Involuntary \"\n",
      " \"Servitude': 0, 'Larceny - Theft': 134, 'Liquor Laws': 43, 'Manslaughter by \"\n",
      " \"Negligence': 0, 'Motor Vehicle Theft': 18, 'Murder and Nonnegligent \"\n",
      " \"Manslaughter': 3, 'Offenses Against the Family and Children': 0, \"\n",
      " \"'Prostitution and Commercialized Vice': 71, 'Rape': 10, 'Robbery': 83, \"\n",
      " \"'Simple Assault': 340, 'Stolen Property: Buying, Receiving, Possessing': \"\n",
      " \"128, 'Suspicion': 0, 'Vagrancy': 3, 'Vandalism': 38, 'Weapons: Carrying, \"\n",
      " \"Possessing, Etc.': 125, 'Sex Offenses (Except Rape, and Prostitution and \"\n",
      " \"Commercialized Vice)': 24}, {'data_year': 2018, 'Aggravated Assault': 442, \"\n",
      " \"'All Other Offenses (Except Traffic)': 1394, 'Arson': 7, 'Burglary': 71, \"\n",
      " \"'Curfew and Loitering Law Violations': 0, 'Disorderly Conduct': 7, 'Driving \"\n",
      " \"Under the Influence': 293, 'Drug Abuse Violations - Grand Total': 1700, \"\n",
      " \"'Drunkenness': 132, 'Embezzlement': 0, 'Forgery and Counterfeiting': 12, \"\n",
      " \"'Fraud': 4, 'Gambling - Total': 0, 'Human Trafficking - Commercial Sex \"\n",
      " \"Acts': 0, 'Human Trafficking - Involuntary Servitude': 0, 'Larceny - Theft': \"\n",
      " \"159, 'Liquor Laws': 46, 'Manslaughter by Negligence': 0, 'Motor Vehicle \"\n",
      " \"Theft': 15, 'Murder and Nonnegligent Manslaughter': 3, 'Offenses Against the \"\n",
      " \"Family and Children': 1, 'Prostitution and Commercialized Vice': 16, 'Rape': \"\n",
      " \"9, 'Robbery': 76, 'Simple Assault': 345, 'Stolen Property: Buying, \"\n",
      " \"Receiving, Possessing': 106, 'Suspicion': 0, 'Vagrancy': 5, 'Vandalism': 59, \"\n",
      " \"'Weapons: Carrying, Possessing, Etc.': 125, 'Sex Offenses (Except Rape, and \"\n",
      " \"Prostitution and Commercialized Vice)': 32}, {'data_year': 2019, 'Aggravated \"\n",
      " \"Assault': 353, 'All Other Offenses (Except Traffic)': 1163, 'Arson': 2, \"\n",
      " \"'Burglary': 40, 'Curfew and Loitering Law Violations': 0, 'Disorderly \"\n",
      " \"Conduct': 14, 'Driving Under the Influence': 268, 'Drug Abuse Violations - \"\n",
      " \"Grand Total': 1641, 'Drunkenness': 154, 'Embezzlement': 4, 'Forgery and \"\n",
      " \"Counterfeiting': 4, 'Fraud': 17, 'Gambling - Total': 1, 'Human Trafficking - \"\n",
      " \"Commercial Sex Acts': 0, 'Human Trafficking - Involuntary Servitude': 0, \"\n",
      " \"'Larceny - Theft': 149, 'Liquor Laws': 44, 'Manslaughter by Negligence': 1, \"\n",
      " \"'Motor Vehicle Theft': 19, 'Murder and Nonnegligent Manslaughter': 4, \"\n",
      " \"'Offenses Against the Family and Children': 0, 'Prostitution and \"\n",
      " \"Commercialized Vice': 16, 'Rape': 7, 'Robbery': 71, 'Simple Assault': 384, \"\n",
      " \"'Stolen Property: Buying, Receiving, Possessing': 70, 'Suspicion': 0, \"\n",
      " \"'Vagrancy': 0, 'Vandalism': 55, 'Weapons: Carrying, Possessing, Etc.': 146, \"\n",
      " \"'Sex Offenses (Except Rape, and Prostitution and Commercialized Vice)': 20}, \"\n",
      " \"{'data_year': 2020, 'Aggravated Assault': 387, 'All Other Offenses (Except \"\n",
      " \"Traffic)': 826, 'Arson': 9, 'Burglary': 73, 'Curfew and Loitering Law \"\n",
      " \"Violations': 0, 'Disorderly Conduct': 19, 'Driving Under the Influence': \"\n",
      " \"139, 'Drug Abuse Violations - Grand Total': 1299, 'Drunkenness': 81, \"\n",
      " \"'Embezzlement': 7, 'Forgery and Counterfeiting': 6, 'Fraud': 8, 'Gambling - \"\n",
      " \"Total': 0, 'Human Trafficking - Commercial Sex Acts': 0, 'Human Trafficking \"\n",
      " \"- Involuntary Servitude': 0, 'Larceny - Theft': 101, 'Liquor Laws': 0, \"\n",
      " \"'Manslaughter by Negligence': 0, 'Motor Vehicle Theft': 27, 'Murder and \"\n",
      " \"Nonnegligent Manslaughter': 4, 'Offenses Against the Family and Children': \"\n",
      " \"0, 'Prostitution and Commercialized Vice': 10, 'Rape': 10, 'Robbery': 49, \"\n",
      " \"'Simple Assault': 387, 'Stolen Property: Buying, Receiving, Possessing': \"\n",
      " \"142, 'Suspicion': 0, 'Vagrancy': 5, 'Vandalism': 52, 'Weapons: Carrying, \"\n",
      " \"Possessing, Etc.': 137, 'Sex Offenses (Except Rape, and Prostitution and \"\n",
      " \"Commercialized Vice)': 27}, {'data_year': 2022, 'Aggravated Assault': 345, \"\n",
      " \"'All Other Offenses (Except Traffic)': 800, 'Arson': 5, 'Burglary': 27, \"\n",
      " \"'Curfew and Loitering Law Violations': 0, 'Disorderly Conduct': 78, 'Driving \"\n",
      " \"Under the Influence': 144, 'Drug Abuse Violations - Grand Total': 745, \"\n",
      " \"'Drunkenness': 32, 'Embezzlement': 4, 'Forgery and Counterfeiting': 7, \"\n",
      " \"'Fraud': 13, 'Gambling - Total': 0, 'Human Trafficking - Commercial Sex \"\n",
      " \"Acts': 0, 'Human Trafficking - Involuntary Servitude': 0, 'Larceny - Theft': \"\n",
      " \"56, 'Liquor Laws': 14, 'Manslaughter by Negligence': 0, 'Motor Vehicle \"\n",
      " \"Theft': 61, 'Murder and Nonnegligent Manslaughter': 3, 'Offenses Against the \"\n",
      " \"Family and Children': 1, 'Prostitution and Commercialized Vice': 0, 'Rape': \"\n",
      " \"7, 'Robbery': 45, 'Simple Assault': 323, 'Stolen Property: Buying, \"\n",
      " \"Receiving, Possessing': 119, 'Suspicion': 0, 'Vagrancy': 4, 'Vandalism': 53, \"\n",
      " \"'Weapons: Carrying, Possessing, Etc.': 236, 'Sex Offenses (Except Rape, and \"\n",
      " \"Prostitution and Commercialized Vice)': 13}]}.\")\n"
     ]
    }
   ],
   "source": [
    "# Set base URL for summarized crime data using ori information from above csv file\n",
    "#https://api.usa.gov/crime/fbi/cde/arrest/agency/CA0010000/all?from=2017&to=2022&API_KEY=\n",
    "url2 = \"https://api.usa.gov/crime/fbi/cde/arrest/agency/\"\n",
    "# use oris from above search result to find and loop to get result?\n",
    "ori = \"CA0010000\"\n",
    "agency_all_url = f\"https://api.usa.gov/crime/fbi/cde/arrest/agency/{ori}/all?from=2017&to=2022&API_KEY={api_key}\"\n",
    "all_offense_res = requests.get(agency_all_url).json()\n",
    "pprint(f\"The first response is {all_offense_res}.\")\n"
   ]
  },
  {
   "cell_type": "code",
   "execution_count": null,
   "id": "247f0933-e4a9-4251-86d4-a156629dc5a5",
   "metadata": {},
   "outputs": [],
   "source": []
  },
  {
   "cell_type": "code",
   "execution_count": null,
   "id": "7c96fea0-10ac-4ffe-bc1a-a8ffdedcd98c",
   "metadata": {},
   "outputs": [],
   "source": [
    "#list of offenses\n",
    "#offenses = ['Aggravated Assault', 'All Other Offenses (Except Traffic)', 'Arson',  'Burglary', \n",
    "            'Curfew and Loitering Law Violations', 'Disorderly Conduct',  'Driving Under the Influence', \n",
    "            'Drug Abuse Violations - Grand Total', 'Drunkenness', 'Embezzlement', 'Forgery and Counterfeiting', \n",
    "            'Fraud',  'Gambling - Total', 'Human Trafficking - Commercial Sex Acts', 'Human Trafficking - Involuntary Servitude', \n",
    "            'Larceny - Theft', 'Liquor Laws',  'Manslaughter by Negligence', 'Motor Vehicle Theft', \n",
    "            'Murder and  Nonnegligent Manslaughter', 'Offenses Against the Family and Children', \n",
    "            'Prostitution and Commercialized Vice', 'Rape', 'Robbery', 'Sex Offenses  (Except Rape, and Prostitution and Commercialized Vice)', \n",
    "            'Simple Assault',  'Stolen Property: Buying, Receiving, Possessing', 'Suspicion', 'Vagrancy',  \n",
    "            'Vandalism', 'Weapons: Carrying, Possessing, Etc.']\n",
    "\n",
    " offense_code_dict = {'Offense Code':'09A', \n",
    "                'Offense Main Category':'Violent Crime',\n",
    "                'Offense Sub-Category':'Murder & Nonnegligent Manslaughter',\n",
    "                'Crime Against':'property'}\n",
    "\n",
    "violent = []\n",
    "property = []\n",
    "person = []\n",
    "society = []\n"
   ]
  },
  {
   "cell_type": "code",
   "execution_count": null,
   "id": "f4904026-d5e0-48c7-baba-ab981884c42b",
   "metadata": {},
   "outputs": [],
   "source": []
  },
  {
   "cell_type": "code",
   "execution_count": 14,
   "id": "13db795d-63fa-46d9-b8db-a97ee7eb321f",
   "metadata": {},
   "outputs": [],
   "source": [
    "#creat ca zipcode list\n",
    "ca_zips = list(range(90001, 96163))"
   ]
  },
  {
   "cell_type": "code",
   "execution_count": 15,
   "id": "029b6583-ef84-4dcf-814c-09bdfc1451e4",
   "metadata": {},
   "outputs": [],
   "source": [
    "#set variables\n",
    "state = \"CA\"\n",
    "units = \"imperial\""
   ]
  },
  {
   "cell_type": "code",
   "execution_count": 16,
   "id": "da74534b-dad1-4e81-be45-0602819b3d2f",
   "metadata": {},
   "outputs": [
    {
     "name": "stdout",
     "output_type": "stream",
     "text": [
      "{'error': {'code': 'API_KEY_MISSING', 'message': 'An API key was not provided. Please get one at https://api.data.gov/signup/'}}\n"
     ]
    }
   ],
   "source": [
    "#api request json-fy\n",
    "response = requests.get(url).json()\n",
    "print(response)"
   ]
  },
  {
   "cell_type": "code",
   "execution_count": null,
   "id": "1c76563b-03c7-471c-84a7-20a0f22d62c2",
   "metadata": {},
   "outputs": [],
   "source": [
    "#pprint sample of data\n",
    "pprint(f\"Sample#1: {response[0]}.\")\n",
    "pprint(f\"Sample#2: {response[-1]}.\")\n",
    "pprint(f\"total responses: {len(response)}.\")"
   ]
  },
  {
   "cell_type": "code",
   "execution_count": null,
   "id": "5108b3b8-79a0-436f-a4c4-4c9224810d0c",
   "metadata": {},
   "outputs": [],
   "source": [
    "#build partial query URL\n",
    "query_url = f\"{url}appid={api_key}&q{state}&units{units}\""
   ]
  },
  {
   "cell_type": "code",
   "execution_count": null,
   "id": "7fc95354-32c7-45f5-8061-59a89d76cf4b",
   "metadata": {},
   "outputs": [],
   "source": [
    "#create lists to hold response info (may create one if data supports not having to merge)\n",
    "ca_crime_2017_2022 = []\n",
    "crime_2017 = []\n",
    "crime_2018 = []\n",
    "crime_2019 = []\n",
    "crime_2020 = []\n",
    "crime_2021 = []\n",
    "crime_2022 = []"
   ]
  },
  {
   "cell_type": "code",
   "execution_count": null,
   "id": "b8d6d6df-2ddb-4c74-913a-4e5449b1ba32",
   "metadata": {},
   "outputs": [],
   "source": [
    "#loop through and perform an api request for data\n",
    "for state in states:\n",
    "    response = requests.get(query_url + state).json()\n",
    "    ca_crime_2017_2022.append(response['colname']['colname']\n",
    "    #or\n",
    "    crime_2017.append(response['colname']['colname']\n",
    "    #etc for each year"
   ]
  },
  {
   "cell_type": "code",
   "execution_count": null,
   "id": "79bd6911-215d-431f-9161-7ca1027132a6",
   "metadata": {},
   "outputs": [],
   "source": [
    "#create a data frame from colname, colname, etc\n",
    "crime_dict = {\"state\": state, \"zip\": zip, (etc for all columns wanted)}\n",
    "crime_data = pd.DataFrame(crime_dict)\n",
    "#crime_data.head()"
   ]
  },
  {
   "cell_type": "code",
   "execution_count": null,
   "id": "93ca1133-fe83-4b1a-86e5-86823636df53",
   "metadata": {},
   "outputs": [],
   "source": []
  },
  {
   "cell_type": "code",
   "execution_count": null,
   "id": "1ca3f3f5-6163-4858-94f2-3967270e20b7",
   "metadata": {},
   "outputs": [],
   "source": [
    "#loop through dfs to produce reports\n",
    "for index, row in dataframe_df.iterrows()\n",
    "    query_url = f\"{url}{row['colname']}/daily.json\" \n",
    "    response = requests.get(query_url).json()\n",
    "    ca_crime_2017_df.loc[index, \"CA Crime 2017\"] = response[0][\"colname\"]\n",
    "    ca_crime_2018_df.loc[index, \"CA Crime 2018\"] = response[0][\"colname\"]\n",
    "    ca_crime_2019_df.loc[index, \"CA Crime 2019\"] = response[0][\"colname\"]\n",
    "    ca_crime_2020_df.loc[index, \"CA Crime 2020\"] = response[0][\"colname\"]\n",
    "    ca_crime_2021_df.loc[index, \"CA Crime 2021\"] = response[0][\"colname\"]\n",
    "    ca_crime_2022_df.loc[index, \"CA Crime 2022\"] = response[0][\"colname\"]"
   ]
  },
  {
   "cell_type": "code",
   "execution_count": null,
   "id": "267f548d-c3dd-4b60-b1ea-6854e2edad83",
   "metadata": {},
   "outputs": [],
   "source": [
    "#pprint json formatted response\n",
    "print(json.dumps(response_json, indent=4, sort_keys=True))"
   ]
  }
 ],
 "metadata": {
  "kernelspec": {
   "display_name": "Python 3 (ipykernel)",
   "language": "python",
   "name": "python3"
  },
  "language_info": {
   "codemirror_mode": {
    "name": "ipython",
    "version": 3
   },
   "file_extension": ".py",
   "mimetype": "text/x-python",
   "name": "python",
   "nbconvert_exporter": "python",
   "pygments_lexer": "ipython3",
   "version": "3.11.7"
  }
 },
 "nbformat": 4,
 "nbformat_minor": 5
}
